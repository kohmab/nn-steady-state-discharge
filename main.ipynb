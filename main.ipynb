{
 "cells": [
  {
   "cell_type": "code",
   "execution_count": null,
   "id": "initial_id",
   "metadata": {
    "collapsed": true
   },
   "outputs": [],
   "source": [
    ""
   ]
  },
  {
   "metadata": {
    "ExecuteTime": {
     "end_time": "2024-09-01T11:06:15.129526Z",
     "start_time": "2024-09-01T11:06:14.385637Z"
    }
   },
   "cell_type": "code",
   "source": [
    "import torch\n",
    "import numpy as np"
   ],
   "id": "1954c0f76c1f9c47",
   "outputs": [],
   "execution_count": 1
  },
  {
   "metadata": {
    "ExecuteTime": {
     "end_time": "2024-09-01T11:06:16.172438Z",
     "start_time": "2024-09-01T11:06:16.123644Z"
    }
   },
   "cell_type": "code",
   "source": [
    "# %%\n",
    "from parametersholder import ParametersHolder\n",
    "\n",
    "torch.manual_seed(1234)\n",
    "conf = {}\n",
    "conf[\"z_limits\"] = np.asarray([-4., 8.])\n",
    "conf[\"r_limits\"] = np.asarray([0., 4.])\n",
    "\n",
    "conf[\"max_field_limits\"] = np.asarray([1., 2.])\n",
    "\n",
    "conf[\"power_limits\"] = np.asarray([1., 1.])\n",
    "conf[\"coefficient_K0_limits\"] = np.asarray([0.1, 10.])\n",
    "conf[\"collision_frequency_limits\"] = np.asarray([0.0, 0.0])\n",
    "\n",
    "conf[\"device\"] = torch.device('cuda' if torch.cuda.is_available() else 'cpu')\n",
    "conf[\"dtype\"] = torch.float32\n",
    "\n",
    "conf[\"Npoints\"] = 1024 * 4024\n",
    "conf[\"Npoints_for_boundary_conditions\"] = 1024 * 256\n",
    "conf[\"Npoints_for_initial_condition\"] = 1024 * 256\n",
    "\n",
    "conf[\"train_batch_size\"] = 1048\n",
    "conf[\"test_batch_size\"] = 512\n",
    "\n",
    "conf[\"trunk_hidden_layers\"] = 3 \n",
    "conf[\"branch_hidden_layers\"] = 3\n",
    "conf[\"trunk_hidden_features\"] = 96\n",
    "conf[\"branch_hidden_features\"] = 96\n",
    "conf[\"branch_and_trunk_out_features\"] = 96\n",
    "\n",
    "conf[\"bessel_features\"] = 48\n",
    "\n",
    "ParametersHolder(conf)"
   ],
   "id": "e77d8638e7de392b",
   "outputs": [
    {
     "data": {
      "text/plain": [
       "parameters: z_limits: [-4.  8.], r_limits: [0. 4.], max_field_limits: [1. 2.], power_limits: [1. 1.], coefficient_K0_limits: [ 0.1 10. ], collision_frequency_limits: [0. 0.], device: cuda, dtype: torch.float32, Npoints: 4120576, Npoints_for_boundary_conditions: 262144, Npoints_for_initial_condition: 262144, train_batch_size: 1048, test_batch_size: 512, trunk_hidden_layers: 3, branch_hidden_layers: 3, trunk_hidden_features: 96, branch_hidden_features: 96, branch_and_trunk_out_features: 96, bessel_features: 48"
      ]
     },
     "execution_count": 2,
     "metadata": {},
     "output_type": "execute_result"
    }
   ],
   "execution_count": 2
  },
  {
   "metadata": {
    "ExecuteTime": {
     "end_time": "2024-09-01T11:06:18.250519Z",
     "start_time": "2024-09-01T11:06:17.922589Z"
    }
   },
   "cell_type": "code",
   "source": [
    "# %%\n",
    "from data import *\n",
    "from helpers import prepare_tensor, beam_field\n",
    "from networks import Pidonet\n",
    "from tqdm import tqdm\n",
    "\n",
    "from losses import *\n",
    "import matplotlib as mpl\n",
    "import matplotlib.pyplot as plt\n",
    "import scipy\n"
   ],
   "id": "fe86f67a3c9df6c6",
   "outputs": [],
   "execution_count": 3
  },
  {
   "metadata": {
    "ExecuteTime": {
     "end_time": "2024-09-01T11:06:19.703345Z",
     "start_time": "2024-09-01T11:06:19.611326Z"
    }
   },
   "cell_type": "code",
   "source": [
    "from networks import BessFeatPIDeepONet\n",
    "\n",
    "# %%\n",
    "model = BessFeatPIDeepONet().to(device=ParametersHolder().device, dtype=ParametersHolder().dtype)\n",
    "\n",
    "s = 0\n",
    "for p in model.parameters():\n",
    "    s += p.numel()\n",
    "print(s)"
   ],
   "id": "9905ad37dfca7765",
   "outputs": [
    {
     "name": "stdout",
     "output_type": "stream",
     "text": [
      "42818\n"
     ]
    }
   ],
   "execution_count": 4
  },
  {
   "metadata": {
    "ExecuteTime": {
     "end_time": "2024-09-01T11:06:25.590758Z",
     "start_time": "2024-09-01T11:06:21.079313Z"
    }
   },
   "cell_type": "code",
   "source": [
    "\n",
    "optimizerA = torch.optim.Adam(model.parameters(), lr=1.e-4)\n",
    "dataloaders = JointDataLoaders(ParametersHolder().train_batch_size,\n",
    "                               DomainData(),\n",
    "                               {\"ic\": IcData(), \"bc_axis\": BcAtAxisData(), \"bc_top\": BcAtUpperRLimitData()})"
   ],
   "id": "aac7b081d15bc9bf",
   "outputs": [],
   "execution_count": 5
  },
  {
   "metadata": {
    "jupyter": {
     "is_executing": true
    },
    "ExecuteTime": {
     "start_time": "2024-09-01T11:06:26.890904Z"
    }
   },
   "cell_type": "code",
   "source": [
    "\n",
    "for e in range(100500):\n",
    "    for i in tqdm(dataloaders):\n",
    "        \n",
    "        optimizerA.zero_grad()\n",
    "\n",
    "        l_eq = eq_losses(model, *dataloaders.data[\"main\"])\n",
    "        l_bc_u = upper_r_bc_losses(model, *dataloaders.data[\"bc_top\"])\n",
    "        l_bc_a = axis_bc_losses(model, *dataloaders.data[\"bc_axis\"])\n",
    "        l_ic = ic_losses(model, *dataloaders.data[\"ic\"])\n",
    "\n",
    "        losses = l_eq + l_bc_u + l_bc_a + l_ic\n",
    "\n",
    "        losses.backward()\n",
    "        optimizerA.step()\n",
    "\n",
    "    print(f\"\\n Epoch {e}\")\n",
    "    print(f\"train_losses = {losses}\\n\")\n",
    "\n",
    "    # TODO test losses\n",
    "    torch.save(model, f'beam_BFPIDON_model.pth')"
   ],
   "id": "fe21807d28ae7f8c",
   "outputs": [
    {
     "name": "stderr",
     "output_type": "stream",
     "text": [
      " 20%|██        | 787/3932 [00:29<01:54, 27.54it/s]"
     ]
    }
   ],
   "execution_count": null
  },
  {
   "metadata": {},
   "cell_type": "code",
   "outputs": [],
   "execution_count": null,
   "source": "model = torch.load(\"beam_BFPIDON_model.pth\", weights_only=False)\n",
   "id": "58ae401242f30a33"
  },
  {
   "metadata": {
    "ExecuteTime": {
     "end_time": "2024-09-01T07:20:33.436797Z",
     "start_time": "2024-09-01T07:20:32.122238Z"
    }
   },
   "cell_type": "code",
   "source": [
    "# %%\n",
    "zmin = ParametersHolder().get_lb()[0]\n",
    "zmax = ParametersHolder().get_ub()[0]\n",
    "rmin = ParametersHolder().get_lb()[1]\n",
    "rmax = ParametersHolder().get_ub()[1]\n",
    "\n",
    "z, r = np.meshgrid(np.linspace(zmin, zmax, 256), np.linspace(rmin, rmax, 256))\n",
    "\n",
    "zt = prepare_tensor(z.flatten()[:, None])\n",
    "rt = prepare_tensor(r.flatten()[:, None])\n",
    "params = torch.tensor([2, 1, 1., 0], dtype=ParametersHolder().dtype, device=ParametersHolder().device)\n",
    "\n",
    "points = np.hstack((z.flatten()[:, None], r.flatten()[:, None]))\n",
    "\n",
    "out = model(zt, rt, params).cpu().detach().numpy()\n",
    "\n",
    "Er_net = scipy.interpolate.griddata(points, out[:, 0], (z, r), method='linear')\n",
    "Ei_net = scipy.interpolate.griddata(points, out[:, 1], (z, r), method='linear')\n",
    "\n",
    "exact = beam_field(points)\n",
    "\n",
    "Er_ex, Ei_ex = exact[:, [0]].reshape(z.shape), exact[:, [1]].reshape(z.shape)"
   ],
   "id": "50f34a076c02c427",
   "outputs": [],
   "execution_count": 9
  },
  {
   "metadata": {
    "ExecuteTime": {
     "end_time": "2024-09-01T07:21:01.423422Z",
     "start_time": "2024-09-01T07:21:01.128706Z"
    }
   },
   "cell_type": "code",
   "source": [
    "# %%\n",
    "mpl.use(\"gtk4agg\")\n",
    "# plt.close('all')\n",
    "\n",
    "fig = plt.figure(1)\n",
    "plt.clf()\n",
    "ax = fig.add_subplot(221)\n",
    "cf = plt.contourf(z, r, Er_net)\n",
    "fig.colorbar(cf)\n",
    "ax = fig.add_subplot(222)\n",
    "cf = plt.contourf(z, r, Ei_net)\n",
    "fig.colorbar(cf)\n",
    "ax = fig.add_subplot(223)\n",
    "cf = plt.contourf(z, r, Er_ex)\n",
    "fig.colorbar(cf)\n",
    "ax = fig.add_subplot(224)\n",
    "cf = plt.contourf(z, r, Ei_ex)\n",
    "fig.colorbar(cf)\n",
    "plt.show()"
   ],
   "id": "9c92c869c90f3556",
   "outputs": [],
   "execution_count": 11
  },
  {
   "metadata": {},
   "cell_type": "code",
   "outputs": [],
   "execution_count": null,
   "source": "",
   "id": "3c7a35ede892062d"
  }
 ],
 "metadata": {
  "kernelspec": {
   "display_name": "Python 3",
   "language": "python",
   "name": "python3"
  },
  "language_info": {
   "codemirror_mode": {
    "name": "ipython",
    "version": 2
   },
   "file_extension": ".py",
   "mimetype": "text/x-python",
   "name": "python",
   "nbconvert_exporter": "python",
   "pygments_lexer": "ipython2",
   "version": "2.7.6"
  }
 },
 "nbformat": 4,
 "nbformat_minor": 5
}
